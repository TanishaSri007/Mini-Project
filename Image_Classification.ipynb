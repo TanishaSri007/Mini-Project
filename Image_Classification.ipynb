{
  "nbformat": 4,
  "nbformat_minor": 0,
  "metadata": {
    "colab": {
      "name": "Image_Classification.ipynb",
      "provenance": [],
      "collapsed_sections": [],
      "authorship_tag": "ABX9TyP1puGHH4fuzCpPBzhV/2rG",
      "include_colab_link": true
    },
    "kernelspec": {
      "name": "python3",
      "display_name": "Python 3"
    }
  },
  "cells": [
    {
      "cell_type": "markdown",
      "metadata": {
        "id": "view-in-github",
        "colab_type": "text"
      },
      "source": [
        "<a href=\"https://colab.research.google.com/github/zorsebolotanshiyolo/Mini-Project/blob/main/Image_Classification.ipynb\" target=\"_parent\"><img src=\"https://colab.research.google.com/assets/colab-badge.svg\" alt=\"Open In Colab\"/></a>"
      ]
    },
    {
      "cell_type": "code",
      "metadata": {
        "colab": {
          "base_uri": "https://localhost:8080/"
        },
        "id": "cClRBOX3ochq",
        "outputId": "7b97774a-ef5d-4ecd-d79b-d4d0c3df3419"
      },
      "source": [
        "!pip install bing-image-downloader"
      ],
      "execution_count": 1,
      "outputs": [
        {
          "output_type": "stream",
          "text": [
            "Collecting bing-image-downloader\n",
            "  Downloading https://files.pythonhosted.org/packages/0d/bf/537a61030b84ae4cd5022d5c7b014fd9bc3ce7c02358919153a6658a61d3/bing_image_downloader-1.0.4-py3-none-any.whl\n",
            "Installing collected packages: bing-image-downloader\n",
            "Successfully installed bing-image-downloader-1.0.4\n"
          ],
          "name": "stdout"
        }
      ]
    },
    {
      "cell_type": "code",
      "metadata": {
        "id": "b-5QGy3Konxi"
      },
      "source": [
        "!mkdir images"
      ],
      "execution_count": 2,
      "outputs": []
    },
    {
      "cell_type": "code",
      "metadata": {
        "colab": {
          "base_uri": "https://localhost:8080/"
        },
        "id": "gd0x77-FoqhX",
        "outputId": "739f02a9-7ebe-447e-a391-a2452941603c"
      },
      "source": [
        "from bing_image_downloader import downloader\r\n",
        "downloader.download(\"pretty sunflower\",limit=30,output_dir='images',adult_filter_off=True)"
      ],
      "execution_count": 3,
      "outputs": [
        {
          "output_type": "stream",
          "text": [
            "\n",
            "\n",
            "[!!]Indexing page: 1\n",
            "\n",
            "[%] Indexed 12 Images on Page 1.\n",
            "\n",
            "===============================================\n",
            "\n",
            "[%] Downloading Image #1 from https://cdn-0.preppywallpapers.com/wp-content/uploads/2019/08/Sunflower-iPhone-Wallpaper-12.jpg\n",
            "[%] File Downloaded !\n",
            "\n",
            "[%] Downloading Image #2 from http://24.media.tumblr.com/tumblr_m62rnbWYCG1r7pl96o1_500.jpg\n",
            "[%] File Downloaded !\n",
            "\n",
            "[%] Downloading Image #3 from http://www.wallpapers13.com/wp-content/uploads/2015/12/Sunflower-beautiful-abstract-HD-Wallpapers-for-Desktop-3840x2400-1366x768.jpg\n",
            "[%] File Downloaded !\n",
            "\n",
            "[%] Downloading Image #4 from https://ohbestdayever.com/wp-content/uploads/2017/12/rustic-chic-sunflower-wedding-centerpiece-ideas.jpg\n",
            "[%] File Downloaded !\n",
            "\n",
            "[%] Downloading Image #5 from https://68.media.tumblr.com/bb9bfb867323a3e93773875676b98719/tumblr_ooueh73xiF1vwiyffo2_500.jpg\n",
            "[%] File Downloaded !\n",
            "\n",
            "[%] Downloading Image #6 from https://i.pinimg.com/736x/04/24/3f/04243f00fb840dbb79f197339ea31830.jpg\n",
            "[%] File Downloaded !\n",
            "\n",
            "[%] Downloading Image #7 from http://www.wohhwedding.com/wp-content/uploads/2016/05/Sunflower-Wedding-Flower-Arrangements-Decorations.jpg\n",
            "[%] File Downloaded !\n",
            "\n",
            "[%] Downloading Image #8 from https://i.pinimg.com/736x/93/59/bf/9359bf664b712ad76b217ba2bf43448c.jpg\n",
            "[%] File Downloaded !\n",
            "\n",
            "[%] Downloading Image #9 from https://i.pinimg.com/736x/6b/47/11/6b47111fe9cb8c808ad851ca91e58801.jpg\n",
            "[%] File Downloaded !\n",
            "\n",
            "[%] Downloading Image #10 from https://i.pinimg.com/736x/7c/04/1b/7c041b752f98aa897f2f4df392cd69ad.jpg\n",
            "[%] File Downloaded !\n",
            "\n",
            "[%] Downloading Image #11 from https://www.wallpapers13.com/wp-content/uploads/2015/12/Sunflower-flower-close-up-high-definition-2560X1600-1600x1200.jpg\n",
            "[%] File Downloaded !\n",
            "\n",
            "[%] Downloading Image #12 from https://ohbestdayever.com/wp-content/uploads/2017/12/royal-blue-and-sunflower-yellow-wedding-centerpiece-ideas.jpg\n",
            "[%] File Downloaded !\n",
            "\n",
            "\n",
            "\n",
            "[!!]Indexing page: 2\n",
            "\n",
            "[%] Indexed 12 Images on Page 2.\n",
            "\n",
            "===============================================\n",
            "\n",
            "[%] Downloading Image #13 from https://cdn-0.preppywallpapers.com/wp-content/uploads/2019/08/Sunflower-iPhone-Wallpaper-12.jpg\n",
            "[%] File Downloaded !\n",
            "\n",
            "[%] Downloading Image #14 from http://24.media.tumblr.com/tumblr_m62rnbWYCG1r7pl96o1_500.jpg\n",
            "[%] File Downloaded !\n",
            "\n",
            "[%] Downloading Image #15 from http://www.wallpapers13.com/wp-content/uploads/2015/12/Sunflower-beautiful-abstract-HD-Wallpapers-for-Desktop-3840x2400-1366x768.jpg\n",
            "[%] File Downloaded !\n",
            "\n",
            "[%] Downloading Image #16 from https://ohbestdayever.com/wp-content/uploads/2017/12/rustic-chic-sunflower-wedding-centerpiece-ideas.jpg\n",
            "[%] File Downloaded !\n",
            "\n",
            "[%] Downloading Image #17 from https://68.media.tumblr.com/bb9bfb867323a3e93773875676b98719/tumblr_ooueh73xiF1vwiyffo2_500.jpg\n",
            "[%] File Downloaded !\n",
            "\n",
            "[%] Downloading Image #18 from https://i.pinimg.com/736x/04/24/3f/04243f00fb840dbb79f197339ea31830.jpg\n",
            "[%] File Downloaded !\n",
            "\n",
            "[%] Downloading Image #19 from http://www.wohhwedding.com/wp-content/uploads/2016/05/Sunflower-Wedding-Flower-Arrangements-Decorations.jpg\n",
            "[%] File Downloaded !\n",
            "\n",
            "[%] Downloading Image #20 from https://i.pinimg.com/736x/93/59/bf/9359bf664b712ad76b217ba2bf43448c.jpg\n",
            "[%] File Downloaded !\n",
            "\n",
            "[%] Downloading Image #21 from https://i.pinimg.com/736x/6b/47/11/6b47111fe9cb8c808ad851ca91e58801.jpg\n",
            "[%] File Downloaded !\n",
            "\n",
            "[%] Downloading Image #22 from https://i.pinimg.com/736x/7c/04/1b/7c041b752f98aa897f2f4df392cd69ad.jpg\n",
            "[%] File Downloaded !\n",
            "\n",
            "[%] Downloading Image #23 from https://www.wallpapers13.com/wp-content/uploads/2015/12/Sunflower-flower-close-up-high-definition-2560X1600-1600x1200.jpg\n",
            "[%] File Downloaded !\n",
            "\n",
            "[%] Downloading Image #24 from https://ohbestdayever.com/wp-content/uploads/2017/12/royal-blue-and-sunflower-yellow-wedding-centerpiece-ideas.jpg\n",
            "[%] File Downloaded !\n",
            "\n",
            "\n",
            "\n",
            "[!!]Indexing page: 3\n",
            "\n",
            "[%] Indexed 11 Images on Page 3.\n",
            "\n",
            "===============================================\n",
            "\n",
            "[%] Downloading Image #25 from http://24.media.tumblr.com/tumblr_m62rnbWYCG1r7pl96o1_500.jpg\n",
            "[%] File Downloaded !\n",
            "\n",
            "[%] Downloading Image #26 from https://i.pinimg.com/736x/6b/47/11/6b47111fe9cb8c808ad851ca91e58801.jpg\n",
            "[%] File Downloaded !\n",
            "\n",
            "[%] Downloading Image #27 from https://68.media.tumblr.com/bb9bfb867323a3e93773875676b98719/tumblr_ooueh73xiF1vwiyffo2_500.jpg\n",
            "[%] File Downloaded !\n",
            "\n",
            "[%] Downloading Image #28 from https://i.pinimg.com/736x/93/59/bf/9359bf664b712ad76b217ba2bf43448c.jpg\n",
            "[%] File Downloaded !\n",
            "\n",
            "[%] Downloading Image #29 from https://www.wallpapers13.com/wp-content/uploads/2015/12/Sunflower-flower-close-up-high-definition-2560X1600-1600x1200.jpg\n",
            "[%] File Downloaded !\n",
            "\n",
            "[%] Downloading Image #30 from http://www.wohhwedding.com/wp-content/uploads/2016/05/Sunflower-Wedding-Flower-Arrangements-Decorations.jpg\n",
            "[%] File Downloaded !\n",
            "\n",
            "\n",
            "\n",
            "[%] Done. Downloaded 30 images.\n",
            "\n",
            "===============================================\n",
            "\n"
          ],
          "name": "stdout"
        }
      ]
    },
    {
      "cell_type": "code",
      "metadata": {
        "colab": {
          "base_uri": "https://localhost:8080/"
        },
        "id": "hB2V61qAsRQh",
        "outputId": "0fad33b2-7898-4b8a-fe11-518d259f0eb4"
      },
      "source": [
        "from bing_image_downloader import downloader\r\n",
        "downloader.download(\"shuttlecock\",limit=30,output_dir='images',adult_filter_off=True)"
      ],
      "execution_count": 4,
      "outputs": [
        {
          "output_type": "stream",
          "text": [
            "\n",
            "\n",
            "[!!]Indexing page: 1\n",
            "\n",
            "[%] Indexed 13 Images on Page 1.\n",
            "\n",
            "===============================================\n",
            "\n",
            "[%] Downloading Image #1 from https://www.gifmania.co.uk/Sports-Animated-Gifs/Animated-Badminton/Badminton-Shuttlecock-82909.gif\n",
            "[%] File Downloaded !\n",
            "\n",
            "[%] Downloading Image #2 from https://www.bing.com/th/id/OGC.ec34e71934253674bdf9532d0d0a56d2?pid=1.7&amp;rurl=https%3a%2f%2fwww.gifmania.co.uk%2fSports-Animated-Gifs%2fAnimated-Badminton%2fBadminton-Shuttlecock-82909.gif&amp;ehk=PWQkSLUTxir%2bmT3sSmmQhZon9ItKo66DIceV6hiJaDM%3d\n",
            "[!] Issue getting: https://www.bing.com/th/id/OGC.ec34e71934253674bdf9532d0d0a56d2?pid=1.7&amp;rurl=https%3a%2f%2fwww.gifmania.co.uk%2fSports-Animated-Gifs%2fAnimated-Badminton%2fBadminton-Shuttlecock-82909.gif&amp;ehk=PWQkSLUTxir%2bmT3sSmmQhZon9ItKo66DIceV6hiJaDM%3d\n",
            "[!] Error:: HTTP Error 404: Not Found\n",
            "[%] Downloading Image #2 from http://cdn.onlinewebfonts.com/svg/img_531317.png\n",
            "[%] File Downloaded !\n",
            "\n",
            "[%] Downloading Image #3 from https://media1.tenor.com/images/5f208e3f3a376f6c9f9867ae7d143546/tenor.gif?itemid=7545872\n",
            "[%] File Downloaded !\n",
            "\n",
            "[%] Downloading Image #4 from https://www.bing.com/th/id/OGC.5f208e3f3a376f6c9f9867ae7d143546?pid=1.7&amp;rurl=https%3a%2f%2fmedia1.tenor.com%2fimages%2f5f208e3f3a376f6c9f9867ae7d143546%2ftenor.gif%3fitemid%3d7545872&amp;ehk=Y6vOgysh7uXFntoIdU6GZe1KHWfkpFIBxvhp6%2fBZ%2bXc%3d\n",
            "[!] Issue getting: https://www.bing.com/th/id/OGC.5f208e3f3a376f6c9f9867ae7d143546?pid=1.7&amp;rurl=https%3a%2f%2fmedia1.tenor.com%2fimages%2f5f208e3f3a376f6c9f9867ae7d143546%2ftenor.gif%3fitemid%3d7545872&amp;ehk=Y6vOgysh7uXFntoIdU6GZe1KHWfkpFIBxvhp6%2fBZ%2bXc%3d\n",
            "[!] Error:: HTTP Error 404: Not Found\n",
            "[%] Downloading Image #4 from https://i.ytimg.com/vi/7o8MjCUZX3Y/maxresdefault.jpg\n",
            "[%] File Downloaded !\n",
            "\n",
            "[%] Downloading Image #5 from https://upload.wikimedia.org/wikipedia/commons/0/09/Shuttlecock.jpg\n",
            "[%] File Downloaded !\n",
            "\n",
            "[%] Downloading Image #6 from http://www.diytomake.com/wp-content/uploads/2017/02/Glue-Glass-Beads-Wine-Bottle-Night-Lights.jpg\n",
            "[%] File Downloaded !\n",
            "\n",
            "[%] Downloading Image #7 from https://keepsporting.com/assets/img/sports/indiaca.jpg?1481814759\n",
            "[%] File Downloaded !\n",
            "\n",
            "[%] Downloading Image #8 from https://hative.com/wp-content/uploads/2015/01/twig-crafts/15-diy-ideas-with-twigs-sticks-tree-branches.jpg\n",
            "[%] File Downloaded !\n",
            "\n",
            "[%] Downloading Image #9 from http://simplecraftidea.com/wp-content/uploads/2017/08/6-3.jpg\n",
            "[%] File Downloaded !\n",
            "\n",
            "[%] Downloading Image #10 from https://simplecraftidea.com/wp-content/uploads/2018/02/Blouse-Designs-18.jpg\n",
            "[%] File Downloaded !\n",
            "\n",
            "[%] Downloading Image #11 from https://media.istockphoto.com/photos/badminton-shuttlecock-picture-id186164790?k=6&amp;m=186164790&amp;s=612x612&amp;w=0&amp;h=37q-YT45A94PMfG50_D8GGTN92z8agwvUcKzcRHIp7s=\n",
            "[%] File Downloaded !\n",
            "\n",
            "\n",
            "\n",
            "[!!]Indexing page: 2\n",
            "\n",
            "[%] Indexed 13 Images on Page 2.\n",
            "\n",
            "===============================================\n",
            "\n",
            "[%] Downloading Image #12 from https://www.gifmania.co.uk/Sports-Animated-Gifs/Animated-Badminton/Badminton-Shuttlecock-82909.gif\n",
            "[%] File Downloaded !\n",
            "\n",
            "[%] Downloading Image #13 from https://www.bing.com/th/id/OGC.ec34e71934253674bdf9532d0d0a56d2?pid=1.7&amp;rurl=https%3a%2f%2fwww.gifmania.co.uk%2fSports-Animated-Gifs%2fAnimated-Badminton%2fBadminton-Shuttlecock-82909.gif&amp;ehk=PWQkSLUTxir%2bmT3sSmmQhZon9ItKo66DIceV6hiJaDM%3d\n",
            "[!] Issue getting: https://www.bing.com/th/id/OGC.ec34e71934253674bdf9532d0d0a56d2?pid=1.7&amp;rurl=https%3a%2f%2fwww.gifmania.co.uk%2fSports-Animated-Gifs%2fAnimated-Badminton%2fBadminton-Shuttlecock-82909.gif&amp;ehk=PWQkSLUTxir%2bmT3sSmmQhZon9ItKo66DIceV6hiJaDM%3d\n",
            "[!] Error:: HTTP Error 404: Not Found\n",
            "[%] Downloading Image #13 from http://cdn.onlinewebfonts.com/svg/img_531317.png\n",
            "[%] File Downloaded !\n",
            "\n",
            "[%] Downloading Image #14 from https://media1.tenor.com/images/5f208e3f3a376f6c9f9867ae7d143546/tenor.gif?itemid=7545872\n",
            "[%] File Downloaded !\n",
            "\n",
            "[%] Downloading Image #15 from https://www.bing.com/th/id/OGC.5f208e3f3a376f6c9f9867ae7d143546?pid=1.7&amp;rurl=https%3a%2f%2fmedia1.tenor.com%2fimages%2f5f208e3f3a376f6c9f9867ae7d143546%2ftenor.gif%3fitemid%3d7545872&amp;ehk=Y6vOgysh7uXFntoIdU6GZe1KHWfkpFIBxvhp6%2fBZ%2bXc%3d\n",
            "[!] Issue getting: https://www.bing.com/th/id/OGC.5f208e3f3a376f6c9f9867ae7d143546?pid=1.7&amp;rurl=https%3a%2f%2fmedia1.tenor.com%2fimages%2f5f208e3f3a376f6c9f9867ae7d143546%2ftenor.gif%3fitemid%3d7545872&amp;ehk=Y6vOgysh7uXFntoIdU6GZe1KHWfkpFIBxvhp6%2fBZ%2bXc%3d\n",
            "[!] Error:: HTTP Error 404: Not Found\n",
            "[%] Downloading Image #15 from https://i.ytimg.com/vi/7o8MjCUZX3Y/maxresdefault.jpg\n",
            "[%] File Downloaded !\n",
            "\n",
            "[%] Downloading Image #16 from https://upload.wikimedia.org/wikipedia/commons/0/09/Shuttlecock.jpg\n",
            "[%] File Downloaded !\n",
            "\n",
            "[%] Downloading Image #17 from http://www.diytomake.com/wp-content/uploads/2017/02/Glue-Glass-Beads-Wine-Bottle-Night-Lights.jpg\n",
            "[%] File Downloaded !\n",
            "\n",
            "[%] Downloading Image #18 from https://keepsporting.com/assets/img/sports/indiaca.jpg?1481814759\n",
            "[%] File Downloaded !\n",
            "\n",
            "[%] Downloading Image #19 from https://hative.com/wp-content/uploads/2015/01/twig-crafts/15-diy-ideas-with-twigs-sticks-tree-branches.jpg\n",
            "[%] File Downloaded !\n",
            "\n",
            "[%] Downloading Image #20 from http://simplecraftidea.com/wp-content/uploads/2017/08/6-3.jpg\n",
            "[%] File Downloaded !\n",
            "\n",
            "[%] Downloading Image #21 from https://simplecraftidea.com/wp-content/uploads/2018/02/Blouse-Designs-18.jpg\n",
            "[%] File Downloaded !\n",
            "\n",
            "[%] Downloading Image #22 from https://media.istockphoto.com/photos/badminton-shuttlecock-picture-id186164790?k=6&amp;m=186164790&amp;s=612x612&amp;w=0&amp;h=37q-YT45A94PMfG50_D8GGTN92z8agwvUcKzcRHIp7s=\n",
            "[%] File Downloaded !\n",
            "\n",
            "\n",
            "\n",
            "[!!]Indexing page: 3\n",
            "\n",
            "[%] Indexed 11 Images on Page 3.\n",
            "\n",
            "===============================================\n",
            "\n",
            "[%] Downloading Image #23 from https://upload.wikimedia.org/wikipedia/commons/thumb/f/fd/Olympics_2012_Mixed_Doubles_Final.jpg/1200px-Olympics_2012_Mixed_Doubles_Final.jpg\n",
            "[Error]Invalid image, not saving https://upload.wikimedia.org/wikipedia/commons/thumb/f/fd/Olympics_2012_Mixed_Doubles_Final.jpg/1200px-Olympics_2012_Mixed_Doubles_Final.jpg\n",
            "\n",
            "[!] Issue getting: https://upload.wikimedia.org/wikipedia/commons/thumb/f/fd/Olympics_2012_Mixed_Doubles_Final.jpg/1200px-Olympics_2012_Mixed_Doubles_Final.jpg\n",
            "[!] Error:: No active exception to reraise\n",
            "[%] Downloading Image #23 from https://produsenshuttlecock.files.wordpress.com/2015/03/damp-2.jpg\n",
            "[%] File Downloaded !\n",
            "\n",
            "[%] Downloading Image #24 from http://atlanticcapitalbank.com/wp-content/uploads/2018/06/DSC_8214.jpg\n",
            "[%] File Downloaded !\n",
            "\n",
            "[%] Downloading Image #25 from http://atlanticcapitalbank.com/wp-content/uploads/2018/02/947c9702edACB_SPEARTEK_0411__108R.jpg\n",
            "[%] File Downloaded !\n",
            "\n",
            "[%] Downloading Image #26 from http://atlanticcapitalbank.com/wp-content/uploads/2018/10/photo-1517430816045-df4b7de11d1d-1351x400.jpeg\n",
            "[%] File Downloaded !\n",
            "\n",
            "[%] Downloading Image #27 from https://atlanticcapitalbank.com/wp-content/uploads/2019/06/AdobeStock_159701231.jpeg\n",
            "[%] File Downloaded !\n",
            "\n",
            "[%] Downloading Image #28 from http://www.pacsoa.org.au/w/images/d/da/Attalea_butyracea02.jpg\n",
            "[%] File Downloaded !\n",
            "\n",
            "[%] Downloading Image #29 from https://atlanticcapitalbank.com/wp-content/uploads/2018/02/tim-evans-88330-unsplash.jpg\n",
            "[%] File Downloaded !\n",
            "\n",
            "[%] Downloading Image #30 from https://www.rivendell-school.org/physed/files/2014/10/20141014_144802.jpg\n",
            "[%] File Downloaded !\n",
            "\n",
            "\n",
            "\n",
            "[%] Done. Downloaded 30 images.\n",
            "\n",
            "===============================================\n",
            "\n"
          ],
          "name": "stdout"
        }
      ]
    },
    {
      "cell_type": "code",
      "metadata": {
        "id": "pvAGPNLssxaH"
      },
      "source": [
        "import os\r\n",
        "import matplotlib.pyplot as plt\r\n",
        "import numpy as np\r\n",
        "from skimage.io import imread\r\n",
        "from skimage.transform import resize\r\n",
        "\r\n",
        "\r\n",
        "target = []\r\n",
        "images = []\r\n",
        "flat_data = []\r\n",
        "\r\n",
        "DATADIR = '/content/images'\r\n",
        "CATEGORIES = ['pretty sunflower','shuttlecock']\r\n",
        "\r\n",
        "for category in CATEGORIES:\r\n",
        "  class_num = CATEGORIES.index(category)\r\n",
        "  path = os.path.join(DATADIR,category)\r\n",
        "  for img in os.listdir(path):\r\n",
        "    img_array = imread(os.path.join(path,img))\r\n",
        "    img_resized = resize(img_array,(150,150,3))\r\n",
        "    flat_data.append(img_resized.flatten())\r\n",
        "    images.append(img_resized)\r\n",
        "    target.append(class_num)\r\n",
        "\r\n",
        "flat_data = np.array(flat_data)    \r\n",
        "target = np.array(target)\r\n",
        "images = np.array(images)\r\n",
        "\r\n"
      ],
      "execution_count": 11,
      "outputs": []
    },
    {
      "cell_type": "code",
      "metadata": {
        "colab": {
          "base_uri": "https://localhost:8080/"
        },
        "id": "jfCfPDZ31gtJ",
        "outputId": "0ecd93e3-730f-4a91-f84c-10efbaaf1efa"
      },
      "source": [
        "len(flat_data[0])"
      ],
      "execution_count": 13,
      "outputs": [
        {
          "output_type": "execute_result",
          "data": {
            "text/plain": [
              "67500"
            ]
          },
          "metadata": {
            "tags": []
          },
          "execution_count": 13
        }
      ]
    },
    {
      "cell_type": "code",
      "metadata": {
        "colab": {
          "base_uri": "https://localhost:8080/"
        },
        "id": "2B53UX4t2EGJ",
        "outputId": "32b1b7ab-7d4a-4240-c474-b5b487975cf9"
      },
      "source": [
        "target"
      ],
      "execution_count": 14,
      "outputs": [
        {
          "output_type": "execute_result",
          "data": {
            "text/plain": [
              "array([0, 0, 0, 0, 0, 0, 0, 0, 0, 0, 0, 0, 0, 0, 0, 0, 0, 0, 0, 0, 0, 0,\n",
              "       0, 0, 0, 0, 0, 0, 0, 0, 1, 1, 1, 1, 1, 1, 1, 1, 1, 1, 1, 1, 1, 1,\n",
              "       1, 1, 1, 1, 1, 1, 1, 1, 1, 1, 1, 1, 1, 1, 1, 1])"
            ]
          },
          "metadata": {
            "tags": []
          },
          "execution_count": 14
        }
      ]
    },
    {
      "cell_type": "code",
      "metadata": {
        "colab": {
          "base_uri": "https://localhost:8080/",
          "height": 282
        },
        "id": "9duF_9vk2Ou_",
        "outputId": "c10d7953-37e3-4434-9cb2-0631c6dddb72"
      },
      "source": [
        "unique,count = np.unique(target,return_counts=True)\r\n",
        "plt.bar(CATEGORIES,count)"
      ],
      "execution_count": 16,
      "outputs": [
        {
          "output_type": "execute_result",
          "data": {
            "text/plain": [
              "<BarContainer object of 2 artists>"
            ]
          },
          "metadata": {
            "tags": []
          },
          "execution_count": 16
        },
        {
          "output_type": "display_data",
          "data": {
            "image/png": "[encoded data removed]",
            "text/plain": [
              "<Figure size 432x288 with 1 Axes>"
            ]
          },
          "metadata": {
            "tags": [],
            "needs_background": "light"
          }
        }
      ]
    },
    {
      "cell_type": "code",
      "metadata": {
        "id": "tw8ev6MV273p"
      },
      "source": [
        "from sklearn.model_selection import train_test_split\r\n",
        "x_train,x_test,y_train,y_test = train_test_split(flat_data,target,test_size=0.3,random_state=109)"
      ],
      "execution_count": 18,
      "outputs": []
    },
    {
      "cell_type": "code",
      "metadata": {
        "colab": {
          "base_uri": "https://localhost:8080/"
        },
        "id": "fMsR5EVB3yna",
        "outputId": "fa8404d6-40f3-4402-b037-1f12e56c2b9b"
      },
      "source": [
        "from sklearn.model_selection import GridSearchCV\r\n",
        "from sklearn import svm\r\n",
        "param_grid = [\r\n",
        "              {'C':[1,10,100,1000],'kernel':['linear']},\r\n",
        "              {'C':[1,10,100,1000],'gamma':[0.001,0.0001],'kernel':['rbf']}\r\n",
        "]\r\n",
        "\r\n",
        "svc = svm.SVC(probability=True)\r\n",
        "grid = GridSearchCV(svc,param_grid)\r\n",
        "grid.fit(x_train, y_train)\r\n",
        "\r\n"
      ],
      "execution_count": 37,
      "outputs": [
        {
          "output_type": "execute_result",
          "data": {
            "text/plain": [
              "GridSearchCV(cv=None, error_score=nan,\n",
              "             estimator=SVC(C=1.0, break_ties=False, cache_size=200,\n",
              "                           class_weight=None, coef0=0.0,\n",
              "                           decision_function_shape='ovr', degree=3,\n",
              "                           gamma='scale', kernel='rbf', max_iter=-1,\n",
              "                           probability=True, random_state=None, shrinking=True,\n",
              "                           tol=0.001, verbose=False),\n",
              "             iid='deprecated', n_jobs=None,\n",
              "             param_grid=[{'C': [1, 10, 100, 1000], 'kernel': ['linear']},\n",
              "                         {'C': [1, 10, 100, 1000], 'gamma': [0.001, 0.0001],\n",
              "                          'kernel': ['rbf']}],\n",
              "             pre_dispatch='2*n_jobs', refit=True, return_train_score=False,\n",
              "             scoring=None, verbose=0)"
            ]
          },
          "metadata": {
            "tags": []
          },
          "execution_count": 37
        }
      ]
    },
    {
      "cell_type": "code",
      "metadata": {
        "colab": {
          "base_uri": "https://localhost:8080/"
        },
        "id": "ZgojY0EsRlZU",
        "outputId": "0fd71270-fd25-40f5-b7e9-e59000770412"
      },
      "source": [
        "y_pred =grid.predict(x_test)\r\n",
        "y_pred\r\n"
      ],
      "execution_count": 38,
      "outputs": [
        {
          "output_type": "execute_result",
          "data": {
            "text/plain": [
              "array([0, 0, 0, 1, 0, 0, 1, 0, 0, 1, 1, 1, 1, 1, 1, 0, 0, 0])"
            ]
          },
          "metadata": {
            "tags": []
          },
          "execution_count": 38
        }
      ]
    },
    {
      "cell_type": "code",
      "metadata": {
        "colab": {
          "base_uri": "https://localhost:8080/"
        },
        "id": "pU6eqqs38KqH",
        "outputId": "f450cbb4-eb0d-46b0-a21f-9142031def08"
      },
      "source": [
        "y_test"
      ],
      "execution_count": 34,
      "outputs": [
        {
          "output_type": "execute_result",
          "data": {
            "text/plain": [
              "array([0, 0, 0, 1, 0, 0, 1, 0, 0, 1, 1, 1, 1, 0, 1, 0, 0, 0])"
            ]
          },
          "metadata": {
            "tags": []
          },
          "execution_count": 34
        }
      ]
    },
    {
      "cell_type": "code",
      "metadata": {
        "id": "4CRSA97BRzG1"
      },
      "source": [
        "from sklearn.metrics import accuracy_score,confusion_matrix,classification_report"
      ],
      "execution_count": 40,
      "outputs": []
    },
    {
      "cell_type": "code",
      "metadata": {
        "colab": {
          "base_uri": "https://localhost:8080/"
        },
        "id": "_noNc_UOSRVf",
        "outputId": "1b57ee33-6594-4a23-c7aa-e507c72300f2"
      },
      "source": [
        "accuracy_score(y_pred,y_test)"
      ],
      "execution_count": 41,
      "outputs": [
        {
          "output_type": "execute_result",
          "data": {
            "text/plain": [
              "0.9444444444444444"
            ]
          },
          "metadata": {
            "tags": []
          },
          "execution_count": 41
        }
      ]
    },
    {
      "cell_type": "code",
      "metadata": {
        "colab": {
          "base_uri": "https://localhost:8080/"
        },
        "id": "WXKM2I38SlhJ",
        "outputId": "fb95c374-8e0b-4e71-d014-b616daf51e92"
      },
      "source": [
        "confusion_matrix(y_pred,y_test)"
      ],
      "execution_count": 42,
      "outputs": [
        {
          "output_type": "execute_result",
          "data": {
            "text/plain": [
              "array([[10,  0],\n",
              "       [ 1,  7]])"
            ]
          },
          "metadata": {
            "tags": []
          },
          "execution_count": 42
        }
      ]
    },
    {
      "cell_type": "code",
      "metadata": {
        "colab": {
          "base_uri": "https://localhost:8080/",
          "height": 52
        },
        "id": "GpUv8EesS5iE",
        "outputId": "a8c526cd-26d8-4843-bf84-42d81559997e"
      },
      "source": [
        "classification_report(y_pred,y_test)"
      ],
      "execution_count": 43,
      "outputs": [
        {
          "output_type": "execute_result",
          "data": {
            "application/vnd.google.colaboratory.intrinsic+json": {
              "type": "string"
            },
            "text/plain": [
              "'              precision    recall  f1-score   support\\n\\n           0       0.91      1.00      0.95        10\\n           1       1.00      0.88      0.93         8\\n\\n    accuracy                           0.94        18\\n   macro avg       0.95      0.94      0.94        18\\nweighted avg       0.95      0.94      0.94        18\\n'"
            ]
          },
          "metadata": {
            "tags": []
          },
          "execution_count": 43
        }
      ]
    },
    {
      "cell_type": "code",
      "metadata": {
        "id": "PaPFwEmhS_Ow"
      },
      "source": [
        "import pickle\r\n",
        "pickle.dump(grid,open('img_model.p','wb'))"
      ],
      "execution_count": 44,
      "outputs": []
    },
    {
      "cell_type": "code",
      "metadata": {
        "id": "8WtKalRyTT72"
      },
      "source": [
        "model = pickle.load(open('img_model.p','rb'))"
      ],
      "execution_count": 45,
      "outputs": []
    },
    {
      "cell_type": "code",
      "metadata": {
        "colab": {
          "base_uri": "https://localhost:8080/",
          "height": 319
        },
        "id": "v7zlmaIHUT9J",
        "outputId": "c47b6645-4450-4553-a274-39164f3cf62e"
      },
      "source": [
        "flat_data = []\r\n",
        "url = input('Enter your url')\r\n",
        "img = imread(url)\r\n",
        "img_resized = resize(img,(150,150,3))\r\n",
        "flat_data.append(img_resized.flatten())\r\n",
        "flat_data = np.array(flat_data)\r\n",
        "print(img.shape)\r\n",
        "plt.imshow(img_resized)\r\n",
        "y_out = model.predict(flat_data)\r\n",
        "y_out = CATEGORIES[y_out[0]]\r\n",
        "print(f' PREDICTED OUTPUT: {y_out}')\r\n"
      ],
      "execution_count": 46,
      "outputs": [
        {
          "output_type": "stream",
          "text": [
            "Enter your urlhttps://5.imimg.com/data5/UE/OR/MY-19880050/white-shuttle-cock-500x500.jpg\n",
            "(500, 500, 3)\n",
            " PREDICTED OUTPUT: shuttlecock\n"
          ],
          "name": "stdout"
        },
        {
          "output_type": "display_data",
          "data": {
            "image/png": "[encoded data removed]",
            "text/plain": [
              "<Figure size 432x288 with 1 Axes>"
            ]
          },
          "metadata": {
            "tags": [],
            "needs_background": "light"
          }
        }
      ]
    }
  ]
}